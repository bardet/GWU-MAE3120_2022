{
 "cells": [
  {
   "cell_type": "markdown",
   "metadata": {},
   "source": [
    "# HW 03\n",
    "\n",
    "\n"
   ]
  },
  {
   "cell_type": "markdown",
   "metadata": {},
   "source": [
    "1.  The lowest and highest bins are filled.  We expect clipping in the data. "
   ]
  },
  {
   "cell_type": "markdown",
   "metadata": {},
   "source": [
    "2.  Increase sampling frequency till spectra does not change anymore."
   ]
  },
  {
   "cell_type": "markdown",
   "metadata": {},
   "source": [
    "3.  Here, we want the resolution $\\Delta V$ to be 0.1% of the range (full scale: $FS = V_{max} - V_{min}$).\n",
    "\n",
    "\\begin{align}\n",
    "\\frac{\\Delta V}{FS} & = \\frac{1}{V_{max} - V_{min}}  \\cdot  \\frac{V_{max} - V_{min}}{2^{N}} \\\\\n",
    " & = \\frac{1}{2^{N}} \\lt 0.001\n",
    "\\end{align}\n",
    "\n",
    "This implies $N = 10$ bit,  ($2^{10} = 1,024$)."
   ]
  },
  {
   "cell_type": "markdown",
   "metadata": {},
   "source": [
    "4. The signal is:\n",
    "\n",
    "\\begin{align}\n",
    "y(t) = 1.1 + 3.9 \\sin(20,000 \\pi t)\n",
    "\\end{align}\n",
    "Its amplitude will be between 2.8 and 5 V, and the frequency is $f = 10,000$ Hz.  We need to make sure the DAQ system has a high enough sampling rate to prevent aliasing and large enough input rate to prevent clipping.  Then we will select the DAQ system with the best resolution (or the smallest quantization error).\n",
    "\n",
    "(a): sampling rate is too low to satisfy Nyquiest criterion\n",
    "\n",
    "(b): input range is too small, we would like to have a safety margin of 20-40 %.\n",
    "\n",
    "(c) \\& (d): sampling rate and input range are ok.  "
   ]
  },
  {
   "cell_type": "code",
   "execution_count": 1,
   "metadata": {},
   "outputs": [
    {
     "name": "stdout",
     "output_type": "stream",
     "text": [
      "Q (c) =  0.0390625  V,  Q (d) =  0.000152587890625  V\n"
     ]
    }
   ],
   "source": [
    "Q_c = 20/2**(8+1)\n",
    "\n",
    "Q_d = 20/2**(16+1)\n",
    "\n",
    "print('Q (c) = ', Q_c, ' V,  Q (d) = ', Q_d, ' V')"
   ]
  },
  {
   "cell_type": "markdown",
   "metadata": {},
   "source": [
    "Case (d) is the best design."
   ]
  },
  {
   "cell_type": "markdown",
   "metadata": {},
   "source": [
    "5.  \n",
    "\\begin{align}\n",
    "y(t) = 0.03 + 0.05 \\cos (1,000 \\pi t)\n",
    "\\end{align}\n",
    "\n",
    "First, we select the gain:  Voltage range: $A_{PT} = 0.02 - 0.08$ V.  The smallest range of $\\pm 0.01$ V is the best and has adequate safety margin to guaranty that there will be not clipping.\n",
    "\n",
    "Then, we select the sampling rate: The signal is periodic and we will optimize the frequency resolution to make sure we do not have aliazing.  The signal frequency is $f = 500$ Hz, to satisfy Nyquiest criterion, we would a sample rate $f_s > 2\\cdot f > 1,000$ Hz.  An appropriate sampling frequency would be in the range $f_s = [1,024 - 4,000]$ Hz."
   ]
  },
  {
   "cell_type": "markdown",
   "metadata": {},
   "source": [
    "6.  (a) The ideal input range on the DAQ would be: $\\pm 60-80$ mV.  We will use an amplifier with an output voltage: $A_{amp}\\pm 80$ mV for the analysis here.\n",
    "\n",
    "The gain should be: $G = A_{amp} / A_{PT} = 80/8 = 10$\n",
    "\n",
    "(b) Inverting amplifiers are less susceptible to electromagnetic noise, so we should build an amplifier stage based on inverting amplifiers.  However, inverting amplifiers are susceptible to impedance loading, so it would be safe to use a buffer on the input of the amplifier stage."
   ]
  },
  {
   "cell_type": "markdown",
   "metadata": {},
   "source": [
    "7.  (a) The desired bandwidth is $f = 100,000$ Hz.  The amplifier gain bandwidth product is $GBP = 1 MHz$.  Remembering the definition of $GBP$:\n",
    "\n",
    "\\begin{align*}\n",
    "GBP & = G_{theoretical} \\times f_c\n",
    "\\end{align*}\n",
    "So for us the $f_c = f = 100,000$ kHz.  This forces a theoretical gain per amplifier stage that should not exceed $G_{theoretical} = GBP / f_c = 10^6/10^5 = 10$.  \n",
    "\n",
    "So for a total desired gain of $G=100$, we should use at least two stages of $G_{stage} = G_{theoretical} = 10$ in series.\n",
    "\n",
    "(b)  You have two options to build your circuit:\n",
    "\n",
    "1- Use two non-inverting amplifiers of gain $G=10$ in series.  Non-inverting amplifiers have infinite input impedance and not susceptible to impedance loading.\n",
    "\n",
    "2- Use two inverting amplifiers of gain $G=-10$ in series.  Now you have have to worry about impedance loading, so you should put a buffer first, then the two inverting amplifiers.\n"
   ]
  },
  {
   "cell_type": "markdown",
   "metadata": {},
   "source": [
    "8.  For a Butterworth high-pass filter of order $n$ the gain is:\n",
    "\n",
    "\\begin{align*}\n",
    "G = \\frac{1}{\\sqrt{1+\\left( \\frac{f_{cutoff}}{f} \\right)^{2n} }}\n",
    "\\end{align*}\n",
    "\n",
    "Here, $f$ is the noise: $f = 60$ Hz, the cutoff frequency is $f_{cutoff} = 300$ Hz.\n",
    "\n",
    "Gain in decibel, assuming the gain, $G$, is defined as the ratio of amplitudes (like it is the case here):\n",
    "\\begin{align}\n",
    "G_{dB} = 20 \\log_{10} ( G ) = 20 \\log_{10} \\left( \\frac{V_{out}}{V_{in}} \\right)\n",
    "\\end{align}"
   ]
  },
  {
   "cell_type": "code",
   "execution_count": 28,
   "metadata": {},
   "outputs": [
    {
     "name": "stdout",
     "output_type": "stream",
     "text": [
      "the gains in percentage are:\n",
      "order 1: G = 19.6116  %\n",
      "order 2: G = 3.9968  %\n",
      "order 4: G = 0.1600  %\n",
      "the gains in dB are: \n",
      "order 1: G = -14.1497  dB\n",
      "order 2: G = -27.9657  dB\n",
      "order 4: G = -55.9176  dB\n"
     ]
    }
   ],
   "source": [
    "import numpy\n",
    "\n",
    "f = 60 # Hz\n",
    "f_c = 300 # Hz\n",
    "\n",
    "G_1 = 1/numpy.sqrt(1+(f_c/f)**(2*1))\n",
    "G_2 = 1/numpy.sqrt(1+(f_c/f)**(2*2))\n",
    "G_4 = 1/numpy.sqrt(1+(f_c/f)**(2*4))\n",
    "\n",
    "print('the gains in percentage are:')\n",
    "\n",
    "print(\"order 1: G = %2.4f \" % (G_1*100), '%')\n",
    "print(\"order 2: G = %2.4f \" % (G_2*100), '%')\n",
    "print(\"order 4: G = %2.4f \" % (G_4*100), '%')\n",
    "\n",
    "# convert to dB:\n",
    "G_1dB = 20*numpy.log10(G_1)\n",
    "G_2dB = 20*numpy.log10(G_2)\n",
    "G_4dB = 20*numpy.log10(G_4)\n",
    "\n",
    "print('the gains in dB are: ')\n",
    "\n",
    "print(\"order 1: G = %2.4f \" % (G_1dB), 'dB')\n",
    "print(\"order 2: G = %2.4f \" % (G_2dB), 'dB')\n",
    "print(\"order 4: G = %2.4f \" % (G_4dB), 'dB')\n",
    "\n"
   ]
  },
  {
   "cell_type": "markdown",
   "metadata": {},
   "source": [
    "9.  The signal could be written analytically as:\n",
    "\\begin{align}\n",
    "y(t) = 1.50 \\sin(40 \\pi t) + 0.20 \\sin(20,000 \\pi t)\n",
    "\\end{align}\n",
    "So the carrier frequency is $f_{carrier} = 20$ Hz, and the noise frequency is $f_{noise} = 10,000$ Hz.  We acquire $N=2^{12}$ points.  The DAQ has $n=16$ bits.\n",
    "We also have $f_s = 30,000$ Hz.\n",
    "\n",
    "(a) The frequency resolution is: $\\Delta f = f_s/N$.\n",
    "\n",
    "The quantization error is: $Q = (V_{max}-V_{min})/2^{n+1}$"
   ]
  },
  {
   "cell_type": "code",
   "execution_count": 47,
   "metadata": {},
   "outputs": [
    {
     "name": "stdout",
     "output_type": "stream",
     "text": [
      "Δ f = 7.3242 Hz\n",
      "Q = 0.1526 mV\n"
     ]
    }
   ],
   "source": [
    "f_s = 30000 # Hz\n",
    "N = 2**12 # points\n",
    "n = 16 # # bits\n",
    "Q = 20/2**(n+1) # quantization error in V\n",
    "\n",
    "print(\"\\u0394 f = %4.4f\" %(f_s/N), 'Hz')\n",
    "print(\"Q = %1.4f\" %(Q*1000), 'mV')"
   ]
  },
  {
   "cell_type": "markdown",
   "metadata": {},
   "source": [
    "(b)  This takes 3 steps.\n",
    "\n",
    "_Step 1_ Select the type of filter and cutoff frequency, $f_c$: Here we want to remove high frequency noise, so we will use a low-pass filter.  As a rule of thumb, it should be at least $10>f_{carrier}$ and $10<f_{noise}$.  Here any values between: $f_c = [200-1,000]$ Hz is acceptable.  I would select the lowest to more efficiently filter the noise: $f_c = 200$ Hz.\n",
    "\n",
    "_Step 2_  Select the gain of the amplifier to make the most of the DAQ system: Ideally, the amplitude of the carrier should be 60-80% of the input range of the DAQ.  So the gain should be in the range: $G = [6-8]/1.5 = 4-5.3$.  Let's select: $G = 5$.\n",
    "\n",
    "_Step 3_  Filter the signal: We wish for the noise amplitude to be smaller than the quantization error $Q$ of our DAQ system.  Remember that the low pass filter has to be applied to the amplified signal.  So after amplification, the noise has amplitude: $A_{noise} = 5\\times 0.20 = 1$ V.\n"
   ]
  },
  {
   "cell_type": "code",
   "execution_count": 52,
   "metadata": {},
   "outputs": [
    {
     "name": "stdout",
     "output_type": "stream",
     "text": [
      "order  1  : A_noise 0.01999600119960014 V, Q/A_noise =  0.007630920257598869\n",
      "order  2  : A_noise 0.0003999999680000038 V, Q/A_noise =  0.38146975708007697\n",
      "order  3  : A_noise 7.999999999744e-06 V, Q/A_noise =  19.073486328735353\n",
      "I need a filter of order 3\n"
     ]
    }
   ],
   "source": [
    "A_noise = 1 #V\n",
    "\n",
    "f_c = 200 # Hz\n",
    "f_noise = 10000 # Hz\n",
    "\n",
    "# try LPF of order 1\n",
    "n_LPF = 1\n",
    "G = 1/numpy.sqrt(1+(f_noise/f_c)**(2*n_LPF))\n",
    "print('order ',n_LPF,' : A_noise', (G*A_noise), 'V, Q/A_noise = ',Q/(G*A_noise))\n",
    "# too big\n",
    "\n",
    "# try LPF of order 2\n",
    "n_LPF = 2\n",
    "G = 1/numpy.sqrt(1+(f_noise/f_c)**(2*n_LPF))\n",
    "print('order ',n_LPF,' : A_noise', (G*A_noise), 'V, Q/A_noise = ',Q/(G*A_noise))\n",
    "# still too big\n",
    "\n",
    "# try LPF of order 3\n",
    "n_LPF = 3\n",
    "G = 1/numpy.sqrt(1+(f_noise/f_c)**(2*n_LPF))\n",
    "print('order ',n_LPF,' : A_noise', (G*A_noise), 'V, Q/A_noise = ',Q/(G*A_noise))\n",
    "\n",
    "print('I need a filter of order 3')"
   ]
  },
  {
   "cell_type": "code",
   "execution_count": null,
   "metadata": {},
   "outputs": [],
   "source": []
  }
 ],
 "metadata": {
  "kernelspec": {
   "display_name": "Python 3",
   "language": "python",
   "name": "python3"
  },
  "language_info": {
   "codemirror_mode": {
    "name": "ipython",
    "version": 3
   },
   "file_extension": ".py",
   "mimetype": "text/x-python",
   "name": "python",
   "nbconvert_exporter": "python",
   "pygments_lexer": "ipython3",
   "version": "3.7.3"
  }
 },
 "nbformat": 4,
 "nbformat_minor": 2
}
